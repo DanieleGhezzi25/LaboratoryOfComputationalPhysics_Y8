{
 "cells": [
  {
   "cell_type": "markdown",
   "metadata": {},
   "source": [
    "0\\. Implement a function (whatever you want) and save it to a file (e.g. `function.py`). Import that file and use that function in this notebook.\n"
   ]
  },
  {
   "cell_type": "markdown",
   "metadata": {},
   "source": [
    "1\\. Write the following as a list comprehension"
   ]
  },
  {
   "cell_type": "code",
   "execution_count": 1,
   "metadata": {},
   "outputs": [
    {
     "name": "stdout",
     "output_type": "stream",
     "text": [
      "[(0, 0), (0, 1), (0, 2), (0, 3), (1, 0), (1, 1), (1, 2), (1, 3), (2, 0), (2, 1), (2, 2), (2, 3)]\n",
      "[0, 4, 16]\n"
     ]
    }
   ],
   "source": [
    "# 1\n",
    "ans = []\n",
    "for i in range(3):\n",
    "    for j in range(4):\n",
    "        ans.append((i, j))\n",
    "print (ans)\n",
    "\n",
    "# 2\n",
    "ans = map(lambda x: x*x, filter(lambda x: x%2 == 0, range(5)))\n",
    "print (list(ans))"
   ]
  },
  {
   "cell_type": "code",
   "execution_count": 2,
   "metadata": {},
   "outputs": [
    {
     "name": "stdout",
     "output_type": "stream",
     "text": [
      "[(0, 0), (0, 1), (0, 2), (0, 3), (1, 0), (1, 1), (1, 2), (1, 3), (2, 0), (2, 1), (2, 2), (2, 3)]\n",
      "[0, 4, 16]\n"
     ]
    }
   ],
   "source": [
    "ans1 = [(i,j) for i in range(3) for j in range(4)]\n",
    "print(ans1)\n",
    "\n",
    "ans2 = [x for x in map(lambda x: x*x, filter(lambda x: x%2 == 0, range(5)))]\n",
    "print(ans2)"
   ]
  },
  {
   "cell_type": "markdown",
   "metadata": {},
   "source": [
    "2\\. Convert the following function into a pure function with no global variables or side effects"
   ]
  },
  {
   "cell_type": "code",
   "execution_count": 3,
   "metadata": {},
   "outputs": [
    {
     "name": "stdout",
     "output_type": "stream",
     "text": [
      "[1, 2, 3, 0, 1, 2, 3, 4]\n",
      "[1, 2, 3, 0, 1, 2, 3, 4]\n"
     ]
    }
   ],
   "source": [
    "x = 5\n",
    "def f(alist):\n",
    "    for i in range(x):\n",
    "         alist.append(i)\n",
    "    return alist\n",
    "\n",
    "alist = [1,2,3]\n",
    "ans = f(alist)\n",
    "print (ans)\n",
    "print (alist) # alist has been changed!"
   ]
  },
  {
   "cell_type": "code",
   "execution_count": 4,
   "metadata": {},
   "outputs": [
    {
     "name": "stdout",
     "output_type": "stream",
     "text": [
      "[1, 2, 3]\n",
      "[1, 2, 3, 0, 1, 2, 3, 4]\n"
     ]
    }
   ],
   "source": [
    "import copy\n",
    "\n",
    "def f1(list, x):\n",
    "    copy_list = copy.copy(list)\n",
    "    for i in range(x):\n",
    "        copy_list.append(i)\n",
    "    return copy_list\n",
    "\n",
    "list = [1,2,3]\n",
    "answer = f1(list, 5)\n",
    "print(list)\n",
    "print(answer)"
   ]
  },
  {
   "cell_type": "code",
   "execution_count": 5,
   "metadata": {},
   "outputs": [
    {
     "name": "stdout",
     "output_type": "stream",
     "text": [
      "[1, 2, 3]\n",
      "[1, 2, 3, 0, 1, 2, 3, 4]\n"
     ]
    }
   ],
   "source": [
    "def f1(list,x):\n",
    "    new_list = list + [i for i in range(x)]\n",
    "    return new_list\n",
    "\n",
    "list = [1,2,3]\n",
    "answer = f1(list, 5)\n",
    "print(list)\n",
    "print(answer)"
   ]
  },
  {
   "cell_type": "markdown",
   "metadata": {},
   "source": [
    "3\\. Write a `decorator` hello that makes every wrapped function print “Hello!”, i.e. something like:\n",
    "\n",
    "```python\n",
    "@hello\n",
    "def square(x):\n",
    "    return x*x\n",
    "```\n",
    "\n"
   ]
  },
  {
   "cell_type": "code",
   "execution_count": 6,
   "metadata": {},
   "outputs": [
    {
     "name": "stdout",
     "output_type": "stream",
     "text": [
      "Hello\n",
      "4\n",
      "Bye\n"
     ]
    }
   ],
   "source": [
    "def decorator(function):\n",
    "    def wrapper(x):\n",
    "        print('Hello')\n",
    "        function(x)\n",
    "        print('Bye')\n",
    "    return wrapper\n",
    "\n",
    "@decorator\n",
    "def square(x):\n",
    "    print(x*x)\n",
    "\n",
    "square(2)"
   ]
  },
  {
   "cell_type": "markdown",
   "metadata": {},
   "source": [
    "4\\. Write the factorial function so that it a) does and b) does not use recursion."
   ]
  },
  {
   "cell_type": "code",
   "execution_count": 7,
   "metadata": {},
   "outputs": [
    {
     "name": "stdout",
     "output_type": "stream",
     "text": [
      "24\n"
     ]
    }
   ],
   "source": [
    "def factorial(x:int):\n",
    "    a=1\n",
    "    while x>1:\n",
    "        a *= x\n",
    "        x-=1\n",
    "    return a\n",
    "\n",
    "print(factorial(4))"
   ]
  },
  {
   "cell_type": "code",
   "execution_count": 8,
   "metadata": {},
   "outputs": [
    {
     "name": "stdout",
     "output_type": "stream",
     "text": [
      "24\n"
     ]
    }
   ],
   "source": [
    "def rec_factorial(x:int):\n",
    "    if x==1 or x==0: return x\n",
    "    else:\n",
    "        return x*rec_factorial(x-1)\n",
    "    \n",
    "print(rec_factorial(4))"
   ]
  },
  {
   "cell_type": "markdown",
   "metadata": {},
   "source": [
    "5\\. Use HOFs (zip in particular) to compute the weight of a circle, a disk and a sphere, assuming different radii and different densities:\n",
    "\n",
    "```python\n",
    "densities = {\"Al\":[0.5,1,2],\"Fe\":[3,4,5],\"Pb\": [15,20,30]}\n",
    "radii = [1,2,3]\n",
    "```\n",
    "\n",
    "where the entries of the dictionary's values are the linear, superficial and volumetric densities of the materials respectively.\n",
    "\n",
    "In particular define a list of three lambda functions using a comprehension that computes the circumference, the area and the volume for a given radius.\n"
   ]
  },
  {
   "cell_type": "code",
   "execution_count": 29,
   "metadata": {},
   "outputs": [
    {
     "name": "stdout",
     "output_type": "stream",
     "text": [
      "\n",
      "Material: Al\n",
      " Radius = 1:\n",
      "  Circumference: 3.14\n",
      "  Disk: 3.14\n",
      "  Sphere: 8.38\n",
      " Radius = 2:\n",
      "  Circumference: 6.28\n",
      "  Disk: 12.57\n",
      "  Sphere: 67.02\n",
      " Radius = 3:\n",
      "  Circumference: 9.42\n",
      "  Disk: 28.27\n",
      "  Sphere: 226.19\n",
      "\n",
      "Material: Fe\n",
      " Radius = 1:\n",
      "  Circumference: 18.85\n",
      "  Disk: 12.57\n",
      "  Sphere: 20.94\n",
      " Radius = 2:\n",
      "  Circumference: 37.70\n",
      "  Disk: 50.27\n",
      "  Sphere: 167.55\n",
      " Radius = 3:\n",
      "  Circumference: 56.55\n",
      "  Disk: 113.10\n",
      "  Sphere: 565.49\n",
      "\n",
      "Material: Pb\n",
      " Radius = 1:\n",
      "  Circumference: 94.25\n",
      "  Disk: 62.83\n",
      "  Sphere: 125.66\n",
      " Radius = 2:\n",
      "  Circumference: 188.50\n",
      "  Disk: 251.33\n",
      "  Sphere: 1005.31\n",
      " Radius = 3:\n",
      "  Circumference: 282.74\n",
      "  Disk: 565.49\n",
      "  Sphere: 3392.92\n"
     ]
    }
   ],
   "source": [
    "densities = {\"Al\":[0.5,1,2],\"Fe\":[3,4,5],\"Pb\": [15,20,30]}\n",
    "radii = [1,2,3]\n",
    "\n",
    "from math import pi\n",
    "lins_sups_vols = [[i for i in map(lambda x: 2*pi*x, radii)], [i for i in map(lambda x: pi*x*x, radii)], [i for i in map(lambda x: 4/3*pi*x**3, radii)]]\n",
    "\n",
    "labels = ['Circumference', 'Disk', 'Sphere']\n",
    "for mat_name, mat_densities in densities.items():\n",
    "    print(f'\\nMaterial: {mat_name}')\n",
    "    for i in range(len(radii)):\n",
    "        print(f' Radius = {radii[i]}:')\n",
    "        for j in range(len(mat_densities)):\n",
    "            weight = lins_sups_vols[j][i] * mat_densities[j]\n",
    "            print(f'  {labels[j]}: {weight:.2f}')"
   ]
  },
  {
   "cell_type": "markdown",
   "metadata": {},
   "source": [
    "6\\. Edit the class defintion to add an instance attribute of is_hungry = True to the Dog class. Then add a method called eat() which changes the value of is_hungry to False when called. Figure out the best way to feed each dog and then output “My dogs are hungry.” if all are hungry or “My dogs are not hungry.” if all are not hungry. The final output should look like this:\n",
    "\n",
    "`I have 3 dogs. \n",
    "Tom is 6. \n",
    "Fletcher is 7. \n",
    "Larry is 9. \n",
    "And they're all mammals, of course. \n",
    "My dogs are not hungry.\n",
    "`\n",
    "\n",
    "```python\n",
    "# Parent class\n",
    "class Dog:\n",
    "\n",
    "    # Class attribute\n",
    "    species = 'mammal'\n",
    "\n",
    "    # Initializer / Instance attributes\n",
    "    def __init__(self, name, age):\n",
    "        self.name = name\n",
    "        self.age = age\n",
    "\n",
    "    # instance method\n",
    "    def description(self):\n",
    "        return \"{} is {} years old\".format(self.name, self.age)\n",
    "\n",
    "    # instance method\n",
    "    def speak(self, sound):\n",
    "        return \"{} says {}\".format(self.name, sound)\n",
    "\n",
    "# Child class (inherits from Dog class)\n",
    "class RussellTerrier(Dog):\n",
    "    def run(self, speed):\n",
    "        return \"{} runs {}\".format(self.name, speed)\n",
    "\n",
    "# Child class (inherits from Dog class)\n",
    "class Bulldog(Dog):\n",
    "    def run(self, speed):\n",
    "        return \"{} runs {}\".format(self.name, speed)\n",
    "```"
   ]
  },
  {
   "cell_type": "code",
   "execution_count": 15,
   "metadata": {},
   "outputs": [
    {
     "name": "stdout",
     "output_type": "stream",
     "text": [
      "There are 3 dogs\n",
      "Nina is 2 years old and he is not hungry\n",
      "Pinta is 14 years old and he is hungry\n",
      "Molly is 7 years old and he is not hungry\n",
      "There are 1 hungry dogs\n"
     ]
    }
   ],
   "source": [
    "# Parent class\n",
    "class Dog:\n",
    "\n",
    "    # Class attribute\n",
    "    species = 'mammal'\n",
    "\n",
    "    # Initializer / Instance attributes\n",
    "    def __init__(self, name, age, is_hungry=True):\n",
    "        self.name = name\n",
    "        self.age = age\n",
    "        if is_hungry == True: self.is_hungry = True\n",
    "        elif is_hungry == False: self.is_hungry = False\n",
    "\n",
    "    # instance method\n",
    "    def description(self):\n",
    "        a = \"{} is {} years old\".format(self.name, self.age)\n",
    "        if self.is_hungry == True: b = \" and he is hungry\"\n",
    "        else: b = \" and he is not hungry\"\n",
    "        return a+b\n",
    "\n",
    "    # instance method\n",
    "    def speak(self, sound):\n",
    "        return \"{} says {}\".format(self.name, sound)\n",
    "    \n",
    "    def eat(self):\n",
    "        self.is_hungry = False\n",
    "        \n",
    "    def hungry(self):\n",
    "        return self.is_hungry\n",
    "\n",
    "# Child class (inherits from Dog class)\n",
    "class RussellTerrier(Dog):\n",
    "    def run(self, speed):\n",
    "        return \"{} runs {}\".format(self.name, speed)\n",
    "\n",
    "# Child class (inherits from Dog class)\n",
    "class Bulldog(Dog):\n",
    "    def run(self, speed):\n",
    "        return \"{} runs {}\".format(self.name, speed)\n",
    "\n",
    "# -------------------------------------------------------------------------------------- #\n",
    "\n",
    "def describer(list_dogs):\n",
    "    print(f'There are {len(list_dogs)} dogs')\n",
    "    count_hungry = 0\n",
    "    for i in range(len(list_dogs)):\n",
    "        if list_dogs[i].hungry() == True: count_hungry += 1\n",
    "        print(list_dogs[i].description())\n",
    "    if count_hungry==len(list_dogs): print(f'My dogs are not hungry')\n",
    "    else: print(f'There are {count_hungry} hungry dogs')\n",
    "    \n",
    "myDogs = [Dog('Nina', 2, is_hungry=True), Dog('Pinta', 14, is_hungry=True), Dog('Molly', 7, is_hungry=False)]\n",
    "myDogs[0].eat()\n",
    "describer(myDogs)"
   ]
  }
 ],
 "metadata": {
  "kernelspec": {
   "display_name": "Python (.venv)",
   "language": "python",
   "name": ".venv"
  },
  "language_info": {
   "codemirror_mode": {
    "name": "ipython",
    "version": 3
   },
   "file_extension": ".py",
   "mimetype": "text/x-python",
   "name": "python",
   "nbconvert_exporter": "python",
   "pygments_lexer": "ipython3",
   "version": "3.12.3"
  }
 },
 "nbformat": 4,
 "nbformat_minor": 2
}
