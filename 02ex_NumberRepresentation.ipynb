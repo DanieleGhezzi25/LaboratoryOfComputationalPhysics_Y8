{
 "cells": [
  {
   "cell_type": "markdown",
   "metadata": {},
   "source": [
    "1\\. Write a function that converts number representation, bin<->dec<->hex. (Clearly using the corresponding python built-in functions is not fair..)"
   ]
  },
  {
   "cell_type": "code",
   "execution_count": 1,
   "metadata": {},
   "outputs": [
    {
     "name": "stdout",
     "output_type": "stream",
     "text": [
      "10101111010111\n",
      "10101111010111\n"
     ]
    }
   ],
   "source": [
    "def dec2bin(dec):\n",
    "    \n",
    "    result = ''\n",
    "    while dec != 0:\n",
    "        if dec % 2 == 0:\n",
    "            result += '0'\n",
    "        else: result += '1'\n",
    "        dec //= 2\n",
    "        \n",
    "    return result[::-1]\n",
    "\n",
    "\n",
    "# --------------- OTHER VERSION ---------------- #\n",
    "\n",
    "\n",
    "def dec2bin_optimized(dec):\n",
    "    \n",
    "    result = ''\n",
    "    while dec != 0:\n",
    "        rest = dec % 2\n",
    "        result = str(rest) + result\n",
    "        dec //= 2\n",
    "        \n",
    "    return result\n",
    "\n",
    "print(dec2bin(11223))\n",
    "print(dec2bin_optimized(11223))"
   ]
  },
  {
   "cell_type": "code",
   "execution_count": 2,
   "metadata": {},
   "outputs": [
    {
     "name": "stdout",
     "output_type": "stream",
     "text": [
      "11223\n"
     ]
    }
   ],
   "source": [
    "def bin2dec(bin):\n",
    "    \n",
    "    if not isinstance(bin, str): bin = str(bin)\n",
    "    dec = 0\n",
    "    for i in range(len(bin)):\n",
    "        dec += int(bin[i]) * 2**(len(bin)-i-1)\n",
    "    \n",
    "    return dec\n",
    "\n",
    "print(bin2dec('10101111010111'))"
   ]
  },
  {
   "cell_type": "code",
   "execution_count": 3,
   "metadata": {},
   "outputs": [
    {
     "name": "stdout",
     "output_type": "stream",
     "text": [
      "2BD7\n",
      "2BD7\n"
     ]
    }
   ],
   "source": [
    "dechex_map = {\n",
    "    10: 'A',\n",
    "    11: 'B',\n",
    "    12: 'C',\n",
    "    13: 'D',\n",
    "    14: 'E',\n",
    "    15: 'F'\n",
    "}\n",
    "\n",
    "def dec2hex(dec):\n",
    "    if dec == 0:\n",
    "        return '0'\n",
    "    result = ''\n",
    "    while dec != 0:\n",
    "        rest = dec % 16\n",
    "        if rest < 10:\n",
    "            digit = str(rest)\n",
    "        else:\n",
    "            digit = dechex_map[rest]\n",
    "            if digit == None: raise ValueError('The rest is higher than 15')\n",
    "        result = digit + result # prepend, not append\n",
    "        dec //= 16\n",
    "    return result\n",
    "\n",
    "\n",
    "# --------------- OTHER VERSION ---------------- #\n",
    "\n",
    "\n",
    "def dec2hex_optimized(dec):\n",
    "    \n",
    "    if dec == 0:\n",
    "        return '0'\n",
    "    \n",
    "    result = ''\n",
    "    hex_chars = '0123456789ABCDEF'\n",
    "    \n",
    "    while dec != 0:\n",
    "        rest = dec % 16\n",
    "        result = hex_chars[rest] + result\n",
    "        dec //= 16\n",
    "        \n",
    "    return result\n",
    "\n",
    "number = 11223\n",
    "print(dec2hex(number))\n",
    "print(dec2hex_optimized(number))"
   ]
  },
  {
   "cell_type": "code",
   "execution_count": 4,
   "metadata": {},
   "outputs": [
    {
     "name": "stdout",
     "output_type": "stream",
     "text": [
      "11223\n"
     ]
    }
   ],
   "source": [
    "hexdec_map = {\n",
    "    'A': 10,\n",
    "    'B': 11,\n",
    "    'C': 12,\n",
    "    'D': 13,\n",
    "    'E': 14,\n",
    "    'F': 15\n",
    "}\n",
    "\n",
    "def hex2dec(hex):\n",
    "    \n",
    "    if not isinstance(hex, str): hex = str(hex)\n",
    "    dec = 0\n",
    "    for i in range(len(hex)):\n",
    "        if hex[i] in hexdec_map: digit = hexdec_map[hex[i]]\n",
    "        else: digit = int(hex[i])\n",
    "        dec += digit * 16**(len(hex)-i-1)\n",
    "    \n",
    "    return dec\n",
    "\n",
    "print(hex2dec('2BD7'))"
   ]
  },
  {
   "cell_type": "code",
   "execution_count": 5,
   "metadata": {},
   "outputs": [
    {
     "name": "stdout",
     "output_type": "stream",
     "text": [
      "10101111010111\n"
     ]
    }
   ],
   "source": [
    "def hex2bin(hex):\n",
    "    return dec2bin(hex2dec(hex))\n",
    "\n",
    "print(hex2bin('2BD7'))"
   ]
  },
  {
   "cell_type": "code",
   "execution_count": 6,
   "metadata": {},
   "outputs": [
    {
     "name": "stdout",
     "output_type": "stream",
     "text": [
      "2BD7\n"
     ]
    }
   ],
   "source": [
    "def bin2hex(bin):\n",
    "    return dec2hex(bin2dec(bin))\n",
    "\n",
    "print(bin2hex('10101111010111'))"
   ]
  },
  {
   "cell_type": "markdown",
   "metadata": {},
   "source": [
    "2\\. Write a function that converts a 32 bit word into a single precision floating point (i.e. interprets the various bits as sign, mantissa and exponent)"
   ]
  },
  {
   "cell_type": "code",
   "execution_count": 7,
   "metadata": {},
   "outputs": [
    {
     "name": "stdout",
     "output_type": "stream",
     "text": [
      "0.75\n"
     ]
    }
   ],
   "source": [
    "def floating_point(bin_str):\n",
    "    \n",
    "    if not isinstance(bin_str, str) or not bin_str.startswith('0b'):\n",
    "        raise ValueError('bin is not a real bin number (in Python standard notation)')\n",
    "    if len(bin_str) != 34:\n",
    "        raise ValueError('bin must be a string with 32 bits (plus \"0b\")')\n",
    "    \n",
    "    sign = int(bin_str[2], 2)\n",
    "    exponent = int(bin_str[3:11], 2)\n",
    "    mantissa = int(bin_str[11:], 2)\n",
    "    \n",
    "    floatp = (-1)**sign * 2**(exponent - 127) * (1 + mantissa / 2**23)\n",
    "    \n",
    "    return floatp\n",
    "\n",
    "bin_string = '0b00111111010000000000000000000000'\n",
    "print(floating_point(bin_string))\n"
   ]
  },
  {
   "cell_type": "markdown",
   "metadata": {},
   "source": [
    "3\\. Write a program to determine the underflow and overflow limits (within a factor of 2) for python on your computer. \n",
    "\n",
    "**Tips**: define two variables inizialized to 1 and halve/double them enough time to exceed the under/over-flow limits  "
   ]
  },
  {
   "cell_type": "code",
   "execution_count": 20,
   "metadata": {},
   "outputs": [
    {
     "name": "stdout",
     "output_type": "stream",
     "text": [
      "Approximate overflow limit: 8.98846567431158e+307\n"
     ]
    }
   ],
   "source": [
    "def overflow():\n",
    "    x = 1.0\n",
    "    while True:\n",
    "        prev = x\n",
    "        x *= 2.0\n",
    "        if x == float('inf'):\n",
    "            print(\"Approximate overflow limit:\", prev)\n",
    "            break\n",
    "\n",
    "overflow()"
   ]
  },
  {
   "cell_type": "code",
   "execution_count": 21,
   "metadata": {},
   "outputs": [
    {
     "name": "stdout",
     "output_type": "stream",
     "text": [
      "Approximate underflow limit: 5e-324\n"
     ]
    }
   ],
   "source": [
    "def underflow():\n",
    "    x = 1.0\n",
    "    while True:\n",
    "        prev = x\n",
    "        x /= 2.\n",
    "        if x == 0.: \n",
    "            print('Approximate underflow limit:', prev)\n",
    "            break\n",
    "        \n",
    "underflow()"
   ]
  },
  {
   "cell_type": "markdown",
   "metadata": {},
   "source": [
    "4\\. Write a program to determine the machine precision\n",
    "\n",
    "**Tips**: define a new variable by adding a smaller and smaller value (proceeding similarly to prob. 2) to an original variable and check the point where the two are the same "
   ]
  },
  {
   "cell_type": "code",
   "execution_count": 27,
   "metadata": {},
   "outputs": [
    {
     "name": "stdout",
     "output_type": "stream",
     "text": [
      "Approximated machine precision: 2.220446049250313e-16\n"
     ]
    }
   ],
   "source": [
    "def machine_precision():\n",
    "    x1 = 1.\n",
    "    precision = 1.\n",
    "    while True:\n",
    "        prev = precision\n",
    "        precision /= 2.\n",
    "        x2 = 1. + precision\n",
    "        if x1 == x2:\n",
    "            print(\"Approximated machine precision:\", prev)\n",
    "            break\n",
    "\n",
    "        \n",
    "machine_precision()"
   ]
  },
  {
   "cell_type": "markdown",
   "metadata": {},
   "source": [
    "5\\. Write a function that takes in input three parameters $a$, $b$ and $c$ and prints out the two solutions to the quadratic equation $ax^2+bx+c=0$ using the standard formula:\n",
    "$$\n",
    "x=\\frac{-b\\pm\\sqrt{b^2-4ac}}{2a}\n",
    "$$\n",
    "\n",
    "(a) use the program to compute the solution for $a=0.001$, $b=1000$ and $c=0.001$\n",
    "\n",
    "(b) re-express the standard solution formula by multiplying top and bottom by $-b\\mp\\sqrt{b^2-4ac}$ and again find the solution for $a=0.001$, $b=1000$ and $c=0.001$. How does it compare with what previously obtained? Why?\n",
    "\n",
    "(c) write a function that compute the roots of a quadratic equation accurately in all cases"
   ]
  },
  {
   "cell_type": "code",
   "execution_count": 41,
   "metadata": {},
   "outputs": [
    {
     "name": "stdout",
     "output_type": "stream",
     "text": [
      "x1 = -9.999894245993346e-07, x2 = -999999.999999\n",
      "x1 = -1.000000000001e-06, x2 = -1000010.5755125057\n",
      "x1 = -999999.999999, x2 = -1.000000000001e-06\n"
     ]
    }
   ],
   "source": [
    "from numpy import sqrt\n",
    "\n",
    "def quadratic_solver(a,b,c):\n",
    "    sqrtdelta = sqrt(b**2 - 4*a*c)\n",
    "    x1 = (-b+sqrtdelta)/(2*a)\n",
    "    x2 = (-b-sqrtdelta)/(2*a)\n",
    "    return x1, x2\n",
    "\n",
    "# a)\n",
    "a = 0.001\n",
    "b = 1000\n",
    "c = 0.001\n",
    "x1, x2 = quadratic_solver(a,b,c)\n",
    "print(f'x1 = {x1}, x2 = {x2}')\n",
    "\n",
    "# b)\n",
    "def quadratic_solver_b(a,b,c):\n",
    "    sqrtdelta = sqrt(b**2 - 4*a*c)\n",
    "    x1 = (2*c) / (-b - sqrtdelta)\n",
    "    x2 = (2*c) / (-b + sqrtdelta)\n",
    "    return x1, x2\n",
    "\n",
    "x3, x4 = quadratic_solver_b(a,b,c)\n",
    "print(f'x1 = {x3}, x2 = {x4}')\n",
    "\n",
    "\n",
    "# c)\n",
    "def quadratic_solver_stable(a,b,c):\n",
    "    sqrtdelta = sqrt(b**2 - 4*a*c)\n",
    "    if b >= 0:\n",
    "        x1 = (-b - sqrtdelta) / (2*a)\n",
    "        x2 = (2*c) / (-b - sqrtdelta)\n",
    "    else:\n",
    "        x1 = (2*c) / (-b + sqrtdelta)\n",
    "        x2 = (-b + sqrtdelta) / (2*a)\n",
    "    return x1, x2\n",
    "\n",
    "x5, x6 = quadratic_solver_stable(a,b,c)\n",
    "print(f'x1 = {x5}, x2 = {x6}')"
   ]
  },
  {
   "cell_type": "markdown",
   "metadata": {},
   "source": [
    "6\\. Write a program that implements the function $f(x)=x(x−1)$\n",
    "\n",
    "(a) Calculate the derivative of the function at the point $x = 1$ using the derivative definition:\n",
    "\n",
    "$$\n",
    "\\frac{{\\rm d}f}{{\\rm d}x} = \\lim_{\\delta\\to0} \\frac{f(x+\\delta)-f(x)}{\\delta}\n",
    "$$\n",
    "\n",
    "with $\\delta = 10^{−2}$. Calculate the true value of the same derivative analytically and compare with the answer your program gives. The two will not agree perfectly. Why not?\n",
    "\n",
    "(b) Repeat the calculation for $\\delta = 10^{−4}, 10^{−6}, 10^{−8}, 10^{−10}, 10^{−12}$ and $10^{−14}$. How does the accuracy scales with $\\delta$?"
   ]
  },
  {
   "cell_type": "code",
   "execution_count": 44,
   "metadata": {},
   "outputs": [
    {
     "name": "stdout",
     "output_type": "stream",
     "text": [
      "delta = 10^-2: df/dx = 1.0099999999999998\n",
      "Difference with true result: -0.009999999999999787\n",
      "\n",
      "delta = 10^-4: df/dx = 1.0000999999992821\n",
      "Difference with true result: -9.999999928211878e-05\n",
      "\n",
      "delta = 10^-6: df/dx = 1.000001000006634\n",
      "Difference with true result: -1.0000066339443947e-06\n",
      "\n",
      "delta = 10^-8: df/dx = 0.999999993922529\n",
      "Difference with true result: 6.07747097092215e-09\n",
      "\n",
      "delta = 10^-10: df/dx = 1.000000082740371\n",
      "Difference with true result: -8.274037099909037e-08\n",
      "\n",
      "delta = 10^-12: df/dx = 1.000088900582341\n",
      "Difference with true result: -8.890058234101161e-05\n",
      "\n",
      "delta = 10^-14: df/dx = 0.9992007221626409\n",
      "Difference with true result: 0.0007992778373591136\n",
      "\n"
     ]
    }
   ],
   "source": [
    "def func(x):\n",
    "    return x**2 - x\n",
    "\n",
    "def derivative(func, x, delta):\n",
    "    return (func(x+delta)+func(x))/delta\n",
    "\n",
    "# a)\n",
    "d = derivative(func, 1, delta=10**-2)\n",
    "print(f'delta = 10^-2: df/dx = {d}')\n",
    "print(f'Difference with true result: {1-d}\\n')\n",
    "\n",
    "# b)\n",
    "for i in range(4, 15, 2):\n",
    "    d = derivative(func, 1, delta=10**-i)\n",
    "    print(f'delta = 10^-{i}: df/dx = {d}')\n",
    "    print(f'Difference with true result: {1-d}\\n')"
   ]
  },
  {
   "cell_type": "markdown",
   "metadata": {},
   "source": [
    "7\\. Consider the integral of the semicircle of radius 1:\n",
    "$$\n",
    "I=\\int_{-1}^{1} \\sqrt(1-x^2) {\\rm d}x\n",
    "$$\n",
    "which it's known to be $I=\\frac{\\pi}{2}=1.57079632679...$.\n",
    "Alternatively we can use the Riemann definition of the integral:\n",
    "$$\n",
    "I=\\lim_{N\\to\\infty} \\sum_{k=1}^{N} h y_k \n",
    "$$\n",
    "\n",
    "with $h=2/N$ the width of each of the $N$ slices the domain is divided into and where\n",
    "$y_k$ is the value of the function at the $k-$th slice.\n",
    "\n",
    "(a) Write a programe to compute the integral with $N=100$. How does the result compares to the true value?\n",
    "\n",
    "(b) How much can $N$ be increased if the computation needs to be run in less than a second? What is the gain in running it for 1 minute? \n"
   ]
  },
  {
   "cell_type": "code",
   "execution_count": 8,
   "metadata": {},
   "outputs": [
    {
     "name": "stdout",
     "output_type": "stream",
     "text": [
      "I(N = 100) = 1.5691342555492493\n",
      "\n",
      "I(N = 100) = 1.5691342555492493 in 0.001 sec\n",
      "Distance from pi half: 0.001662071245647212\n",
      "\n",
      "I(N = 1000) = 1.5707437385010703 in 0.006 sec\n",
      "Distance from pi half: 5.258829382626118e-05\n",
      "\n",
      "I(N = 10000) = 1.5707946637153898 in 0.078 sec\n",
      "Distance from pi half: 1.6630795067751336e-06\n",
      "\n",
      "I(N = 100000) = 1.57079627420242 in 0.311 sec\n",
      "Distance from pi half: 5.2592476595947346e-08\n",
      "\n",
      "I(N = 1000000) = 1.570796325147268 in 1.759 sec\n",
      "Distance from pi half: 1.6476284780964079e-09\n",
      "\n",
      "I(N = 10000000) = 1.5707963267012999 in 17.762 sec\n",
      "Distance from pi half: 9.359668595720905e-11\n",
      "\n",
      "I(N = 100000000) = 1.570796327457729 in 185.174 sec\n",
      "Distance from pi half: 6.628324555890686e-10\n",
      "\n"
     ]
    }
   ],
   "source": [
    "import numpy as np\n",
    "\n",
    "def riemann_halfcircle(N):\n",
    "    from time import time\n",
    "    start = time()\n",
    "    base = 2/N\n",
    "    integral = 0\n",
    "    x = -1\n",
    "    for i in range(0,N):\n",
    "        integral += np.sqrt(1.-x**2)*base\n",
    "        x += 2/N\n",
    "    end = time()\n",
    "    time = end - start\n",
    "    return integral, time\n",
    "\n",
    "# a)\n",
    "N = 100\n",
    "print(f'I(N = {N}) = {riemann_halfcircle(N)[0]}\\n')\n",
    "\n",
    "# b)\n",
    "N = 100\n",
    "while N < 1e8+10:\n",
    "    I, time = riemann_halfcircle(N)\n",
    "    print(f'I(N = {N}) = {I} in {time:.3f} sec')\n",
    "    print(f'Distance from pi half: {abs(np.pi/2 - I)}\\n')\n",
    "    N *= 10"
   ]
  }
 ],
 "metadata": {
  "kernelspec": {
   "display_name": ".venv",
   "language": "python",
   "name": "python3"
  },
  "language_info": {
   "codemirror_mode": {
    "name": "ipython",
    "version": 3
   },
   "file_extension": ".py",
   "mimetype": "text/x-python",
   "name": "python",
   "nbconvert_exporter": "python",
   "pygments_lexer": "ipython3",
   "version": "3.12.3"
  }
 },
 "nbformat": 4,
 "nbformat_minor": 2
}
