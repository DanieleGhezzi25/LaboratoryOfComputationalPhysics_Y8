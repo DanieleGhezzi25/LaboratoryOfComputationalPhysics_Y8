{
 "cells": [
  {
   "cell_type": "markdown",
   "id": "b5746bd0",
   "metadata": {},
   "source": [
    "The following exercises are meant to be solved by gathering the bash commands incrimentally in two scripts, one for ex 1.* the other for ex 2.* "
   ]
  },
  {
   "cell_type": "markdown",
   "id": "4e60de78",
   "metadata": {},
   "source": [
    "### Ex 1"
   ]
  },
  {
   "cell_type": "markdown",
   "id": "6759df36",
   "metadata": {},
   "source": [
    "1\\.a Make a new directory called `students` in your home. Download a csv file with the list of students of this lab from [here](https://www.dropbox.com/s/867rtx3az6e9gm8/LCP_22-23_students.csv) (use the `wget` command) and copy that to `students`. First check whether the file is already there"
   ]
  },
  {
   "cell_type": "markdown",
   "id": "798c0c9d",
   "metadata": {},
   "source": [
    "1\\.b Make two new files, one containing the students belonging to PoD, the other to Physics."
   ]
  },
  {
   "cell_type": "markdown",
   "id": "8a43d622",
   "metadata": {},
   "source": [
    "1\\.c For each letter of the alphabet, count the number of students whose surname starts with that letter. "
   ]
  },
  {
   "cell_type": "markdown",
   "id": "4ba6bc90",
   "metadata": {},
   "source": [
    "1\\.d Find out which is the letter with most counts."
   ]
  },
  {
   "cell_type": "markdown",
   "id": "086a043c",
   "metadata": {},
   "source": [
    "1\\.e Assume an obvious numbering of the students in the file (first line is 1, second line is 2, etc.), group students \"modulo 18\", i.e. 1,19,37,.. 2,20,38,.. etc. and put each group in a separate file  "
   ]
  },
  {
   "cell_type": "code",
   "execution_count": null,
   "id": "2ff0863c",
   "metadata": {
    "vscode": {
     "languageId": "plaintext"
    }
   },
   "outputs": [],
   "source": [
    "#!/bin/bash\n",
    "\n",
    "\n",
    "# 1.a\n",
    "cd \"$HOME\"\n",
    "mkdir -p students\n",
    "\n",
    "file=\"LCP_22-23_students.csv\"\n",
    "\n",
    "wget -O \"$file\" \"https://www.dropbox.com/scl/fi/bxv17nrbrl83vw6qrkiu9/LCP_22-23_students.csv?rlkey=47fakvatrtif3q3qw4q97p5b7&e=1&dl=1\"\n",
    "\n",
    "cp \"$file\" ./students/\n",
    "\n",
    "if [ -f \"./students/$file\" ]; then\n",
    "    echo \"The file '$file' has been downloaded successfully and copied to the ./students directory.\"\n",
    "else\n",
    "    echo \"Error: file '$file' was not copied successfully.\"\n",
    "fi\n",
    "\n",
    "echo \"\"\n",
    "\n",
    "\n",
    "# 1.b\n",
    "cd students\n",
    "touch PoD.txt Physics.txt\n",
    "> PoD.txt\n",
    "> Physics.txt\n",
    "\n",
    "tail -n +2 \"$file\" | while IFS=',' read -r FamilyName Surname Email MasterProgram; do\n",
    "    \n",
    "    MasterProgram=\"${MasterProgram//$'\\r'/}\"\n",
    "    \n",
    "    if [ \"$MasterProgram\" = \"PoD\" ] || [ \"$MasterProgram\" = \"POD\" ]; then\n",
    "        echo \"$FamilyName,$Surname\" >> PoD.txt\n",
    "    elif [ \"$MasterProgram\" = \"Physics\" ]; then\n",
    "        echo \"$FamilyName,$Surname\" >> Physics.txt\n",
    "    else\n",
    "        echo \"Found '$MasterProgram' master program in $file; did not save the student in PoD.txt or Physics.txt\"\n",
    "    fi\n",
    "done\n",
    "\n",
    "echo \"Students' names are correctly saved in PoD.txt and Physics.txt.\"\n",
    "echo \"\"\n",
    "\n",
    "\n",
    "# 1.c\n",
    "declare -A counter  # dictionary\n",
    "\n",
    "for letter in {A..Z}; do\n",
    "    counter[$letter]=0\n",
    "done\n",
    "\n",
    "while IFS=',' read -r FamilyName Surname Email MasterProgram; do\n",
    "    initial=\"${Surname:0:1}\"\n",
    "    (( counter[$initial]++ ))\n",
    "done < <(tail -n +2 \"$file\") \n",
    "# note: in this way the variables modified inside the loop are available outside the loop\n",
    "\n",
    "echo \"Number of Students that start with:\"\n",
    "for letter in {A..Z}; do\n",
    "    echo \" - letter $letter: ${counter[$letter]}\"\n",
    "done\n",
    "\n",
    "echo \"\"\n",
    "\n",
    "\n",
    "# 1.d\n",
    "max=0\n",
    "maxletter='A'\n",
    "for letter in {A..Z}; do\n",
    "    if [ ${counter[$letter]} -gt $max ]; then\n",
    "        max=${counter[$letter]}\n",
    "        maxletter=$letter\n",
    "    fi\n",
    "done\n",
    "\n",
    "echo \"Letter with the most students: $maxletter ($max students)\"\n",
    "echo \"\"\n",
    "\n",
    "# 1.e\n",
    "for i in {0..17}; do\n",
    "    touch group$i.txt\n",
    "done\n",
    "\n",
    "for i in {0..17}; do\n",
    "    > group$i.txt\n",
    "done\n",
    "\n",
    "counter=0\n",
    "while IFS=',' read -r FamilyName Surname Email MasterProgram; do\n",
    "    rest=$((counter % 18))\n",
    "    echo \"$FamilyName $Surname\" >> \"group$rest.txt\"\n",
    "    ((counter++))\n",
    "done < <(tail -n +2 \"$file\")\n",
    "\n",
    "echo \"Student divided in groups modulo 18\""
   ]
  },
  {
   "cell_type": "markdown",
   "id": "1d730d21",
   "metadata": {},
   "source": [
    "### Ex 2"
   ]
  },
  {
   "cell_type": "markdown",
   "id": "4b87ecb7",
   "metadata": {},
   "source": [
    "2.a Make a copy of the file `data.csv` removing the metadata and the commas between numbers; call it `data.txt`"
   ]
  },
  {
   "cell_type": "markdown",
   "id": "344048c8",
   "metadata": {},
   "source": [
    "2\\.b How many even numbers are there?"
   ]
  },
  {
   "cell_type": "markdown",
   "id": "2a27138d",
   "metadata": {},
   "source": [
    "2\\.c Distinguish the entries on the basis of `sqrt(X^2 + Y^2 + Z^2)` is greater or smaller than `100*sqrt(3)/2`. Count the entries of each of the two groups "
   ]
  },
  {
   "cell_type": "markdown",
   "id": "e937ef4e",
   "metadata": {},
   "source": [
    "2\\.d Make `n` copies of data.txt (with `n` an input parameter of the script), where the i-th copy has all the numbers divided by i (with `1<=i<=n`)."
   ]
  }
 ],
 "metadata": {
  "kernelspec": {
   "display_name": "Python 3 (ipykernel)",
   "language": "python",
   "name": "python3"
  },
  "language_info": {
   "codemirror_mode": {
    "name": "ipython",
    "version": 3
   },
   "file_extension": ".py",
   "mimetype": "text/x-python",
   "name": "python",
   "nbconvert_exporter": "python",
   "pygments_lexer": "ipython3",
   "version": "3.9.7"
  }
 },
 "nbformat": 4,
 "nbformat_minor": 5
}
