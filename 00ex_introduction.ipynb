{
 "cells": [
  {
   "cell_type": "markdown",
   "metadata": {},
   "source": [
    "1. The MickeyMouse problem\n",
    "\n",
    "a) Write a program that prints the numbers from 1 to 100. But for multiples of 3 print `Mickey` instead of the corresponding number and for the multiples of 5 print `Mouse`. For numbers which are multiples of both three and five print `MickeyMouse`\n",
    "\n",
    "b) Put the result in a tuple and substitute `Mickey` with `Donald` and `Mouse` with `Duck`"
   ]
  },
  {
   "cell_type": "code",
   "execution_count": 9,
   "metadata": {},
   "outputs": [
    {
     "name": "stdout",
     "output_type": "stream",
     "text": [
      "1\n",
      "2\n",
      "3 Mickey\n",
      "4\n",
      "5 Mouse\n",
      "6 Mickey\n",
      "7\n",
      "8\n",
      "9 Mickey\n",
      "10 Mouse\n",
      "11\n",
      "12 Mickey\n",
      "13\n",
      "14\n",
      "15 MickeyMouse\n",
      "16\n",
      "17\n",
      "18 Mickey\n",
      "19\n",
      "20 Mouse\n",
      "21 Mickey\n",
      "22\n",
      "23\n",
      "24 Mickey\n",
      "25 Mouse\n",
      "26\n",
      "27 Mickey\n",
      "28\n",
      "29\n",
      "30 MickeyMouse\n",
      "31\n",
      "32\n",
      "33 Mickey\n",
      "34\n",
      "35 Mouse\n",
      "36 Mickey\n",
      "37\n",
      "38\n",
      "39 Mickey\n",
      "40 Mouse\n",
      "41\n",
      "42 Mickey\n",
      "43\n",
      "44\n",
      "45 MickeyMouse\n",
      "46\n",
      "47\n",
      "48 Mickey\n",
      "49\n",
      "50 Mouse\n",
      "51 Mickey\n",
      "52\n",
      "53\n",
      "54 Mickey\n",
      "55 Mouse\n",
      "56\n",
      "57 Mickey\n",
      "58\n",
      "59\n",
      "60 MickeyMouse\n",
      "61\n",
      "62\n",
      "63 Mickey\n",
      "64\n",
      "65 Mouse\n",
      "66 Mickey\n",
      "67\n",
      "68\n",
      "69 Mickey\n",
      "70 Mouse\n",
      "71\n",
      "72 Mickey\n",
      "73\n",
      "74\n",
      "75 MickeyMouse\n",
      "76\n",
      "77\n",
      "78 Mickey\n",
      "79\n",
      "80 Mouse\n",
      "81 Mickey\n",
      "82\n",
      "83\n",
      "84 Mickey\n",
      "85 Mouse\n",
      "86\n",
      "87 Mickey\n",
      "88\n",
      "89\n",
      "90 MickeyMouse\n",
      "91\n",
      "92\n",
      "93 Mickey\n",
      "94\n",
      "95 Mouse\n",
      "96 Mickey\n",
      "97\n",
      "98\n",
      "99 Mickey\n",
      "100 Mouse\n",
      "(1, '')\n",
      "(2, '')\n",
      "(3, 'Donald')\n",
      "(4, '')\n",
      "(5, 'Duck')\n",
      "(6, 'Donald')\n",
      "(7, '')\n",
      "(8, '')\n",
      "(9, 'Donald')\n",
      "(10, 'Duck')\n",
      "(11, '')\n",
      "(12, 'Donald')\n",
      "(13, '')\n",
      "(14, '')\n",
      "(15, 'DonaldDuck')\n",
      "(16, '')\n",
      "(17, '')\n",
      "(18, 'Donald')\n",
      "(19, '')\n",
      "(20, 'Duck')\n",
      "(21, 'Donald')\n",
      "(22, '')\n",
      "(23, '')\n",
      "(24, 'Donald')\n",
      "(25, 'Duck')\n",
      "(26, '')\n",
      "(27, 'Donald')\n",
      "(28, '')\n",
      "(29, '')\n",
      "(30, 'DonaldDuck')\n",
      "(31, '')\n",
      "(32, '')\n",
      "(33, 'Donald')\n",
      "(34, '')\n",
      "(35, 'Duck')\n",
      "(36, 'Donald')\n",
      "(37, '')\n",
      "(38, '')\n",
      "(39, 'Donald')\n",
      "(40, 'Duck')\n",
      "(41, '')\n",
      "(42, 'Donald')\n",
      "(43, '')\n",
      "(44, '')\n",
      "(45, 'DonaldDuck')\n",
      "(46, '')\n",
      "(47, '')\n",
      "(48, 'Donald')\n",
      "(49, '')\n",
      "(50, 'Duck')\n",
      "(51, 'Donald')\n",
      "(52, '')\n",
      "(53, '')\n",
      "(54, 'Donald')\n",
      "(55, 'Duck')\n",
      "(56, '')\n",
      "(57, 'Donald')\n",
      "(58, '')\n",
      "(59, '')\n",
      "(60, 'DonaldDuck')\n",
      "(61, '')\n",
      "(62, '')\n",
      "(63, 'Donald')\n",
      "(64, '')\n",
      "(65, 'Duck')\n",
      "(66, 'Donald')\n",
      "(67, '')\n",
      "(68, '')\n",
      "(69, 'Donald')\n",
      "(70, 'Duck')\n",
      "(71, '')\n",
      "(72, 'Donald')\n",
      "(73, '')\n",
      "(74, '')\n",
      "(75, 'DonaldDuck')\n",
      "(76, '')\n",
      "(77, '')\n",
      "(78, 'Donald')\n",
      "(79, '')\n",
      "(80, 'Duck')\n",
      "(81, 'Donald')\n",
      "(82, '')\n",
      "(83, '')\n",
      "(84, 'Donald')\n",
      "(85, 'Duck')\n",
      "(86, '')\n",
      "(87, 'Donald')\n",
      "(88, '')\n",
      "(89, '')\n",
      "(90, 'DonaldDuck')\n",
      "(91, '')\n",
      "(92, '')\n",
      "(93, 'Donald')\n",
      "(94, '')\n",
      "(95, 'Duck')\n",
      "(96, 'Donald')\n",
      "(97, '')\n",
      "(98, '')\n",
      "(99, 'Donald')\n",
      "(100, 'Duck')\n"
     ]
    }
   ],
   "source": [
    "# a)\n",
    "def MickeyMouse():\n",
    "    for i in range(1, 101):\n",
    "        if i % 3 == 0 and i % 5 == 0: print(i, \"MickeyMouse\")\n",
    "        elif i % 3 == 0: print(i, \"Mickey\")\n",
    "        elif i % 5 == 0: print(i, \"Mouse\")\n",
    "        else: print(i)\n",
    "    return\n",
    "\n",
    "MickeyMouse()\n",
    "\n",
    "# b)\n",
    "def MickeyMouse_tuple():\n",
    "    for i in range(1, 101):\n",
    "        if i % 3 == 0 and i % 5 == 0: print((i, \"DonaldDuck\"))\n",
    "        elif i % 3 == 0: print((i, \"Donald\"))\n",
    "        elif i % 5 == 0: print((i, \"Duck\"))\n",
    "        else: print((i, ''))\n",
    "    return\n",
    "\n",
    "MickeyMouse_tuple()"
   ]
  },
  {
   "cell_type": "markdown",
   "metadata": {},
   "source": [
    "2\\. The swap function\n",
    "\n",
    "Write a function that swap the values of two input variables x and y (whatever the type). Try to do that also without a temporary variable"
   ]
  },
  {
   "cell_type": "code",
   "execution_count": 14,
   "metadata": {},
   "outputs": [
    {
     "name": "stdout",
     "output_type": "stream",
     "text": [
      "Initial variables: (1, 2)\n",
      "Swapped variables: (2, 1)\n",
      "Initial variables: (1, 2)\n",
      "Swapped variables: (2, 1)\n"
     ]
    }
   ],
   "source": [
    "# a)\n",
    "def swap(x,y):\n",
    "    tmp = x\n",
    "    x = y\n",
    "    y = tmp\n",
    "    return x,y\n",
    "\n",
    "x, y = 1, 2\n",
    "print(f'Initial variables: {x,y}')\n",
    "x, y = swap(x,y)\n",
    "print(f'Swapped variables: {x,y}')\n",
    "\n",
    "# b)\n",
    "def swap_notmp(x,y):\n",
    "    x,y = y,x\n",
    "    return x,y\n",
    "\n",
    "x, y = 1, 2\n",
    "print(f'Initial variables: {x,y}')\n",
    "x, y = swap_notmp(x,y)\n",
    "print(f'Swapped variables: {x,y}')"
   ]
  },
  {
   "cell_type": "markdown",
   "metadata": {},
   "source": [
    "3\\. Computing the distance\n",
    "\n",
    "Write a function that calculates and returns the euclidean distance between two points *u* and *v*, where *u* and *v* are both 2-tuples *(x,y)*. For example, if *u=(3,0)* and *v=(0,4)*, the function should return 5"
   ]
  },
  {
   "cell_type": "code",
   "execution_count": 17,
   "metadata": {},
   "outputs": [
    {
     "name": "stdout",
     "output_type": "stream",
     "text": [
      "5.0\n"
     ]
    }
   ],
   "source": [
    "def distance(u,v):\n",
    "    return pow(pow(u[0]-v[0], 2) + pow(u[1]-v[1], 2), 0.5)\n",
    "\n",
    "u, v = (3,0), (0,4)\n",
    "print(distance(u,v))"
   ]
  },
  {
   "cell_type": "markdown",
   "metadata": {},
   "source": [
    "4\\. Counting letters\n",
    "\n",
    "Write a program to calculate the number of times each character occurs in a given string *s*. Ignore differneces in capitalization"
   ]
  },
  {
   "cell_type": "code",
   "execution_count": 26,
   "metadata": {},
   "outputs": [
    {
     "name": "stdout",
     "output_type": "stream",
     "text": [
      "1\n",
      "2\n",
      "1\n",
      "2\n"
     ]
    }
   ],
   "source": [
    "def counting_letter(string:str, target:str):\n",
    "    counts = 0\n",
    "    for letter in string: \n",
    "        if letter==target: counts += 1\n",
    "    return counts\n",
    "\n",
    "string1 = 'string'\n",
    "string2 = 'strings'\n",
    "print(counting_letter(string1, 's'))\n",
    "print(counting_letter(string2, 's'))\n",
    "\n",
    "# more direct version\n",
    "print(string1.count('s'))\n",
    "print(string2.count('s'))"
   ]
  },
  {
   "cell_type": "markdown",
   "metadata": {},
   "source": [
    "5\\. Isolating the unique\n",
    "\n",
    "Write a function that determines and count the unique numbers in the list *l*"
   ]
  },
  {
   "cell_type": "code",
   "execution_count": 34,
   "metadata": {},
   "outputs": [
    {
     "name": "stdout",
     "output_type": "stream",
     "text": [
      "Ordered list: [1, 3, 3, 5, 8, 9, 10, 16, 18, 19, 20, 20, 20, 24, 30, 31, 31, 33, 34, 34, 36, 36, 36, 37, 39, 41, 42, 42, 45, 45, 45, 47, 50, 50, 51, 51, 51, 53, 54, 55, 56, 56, 57, 58, 63, 63, 64, 66, 66, 70, 70, 70, 72, 74, 75, 79, 81, 82, 84, 84, 84, 84, 85, 85, 85, 86, 87, 88, 89, 89, 90, 91, 91, 91, 92, 94, 95, 96, 98, 99]\n",
      "Uniques list: [1, 5, 8, 9, 10, 16, 18, 19, 24, 30, 33, 37, 39, 41, 47, 53, 54, 55, 57, 58, 64, 72, 74, 75, 79, 81, 82, 86, 87, 88, 90, 92, 94, 95, 96, 98, 99]\n",
      "Number of unique elements: 37\n",
      "==================================\n",
      "Ordered list: [1, 3, 3, 5, 8, 9, 10, 16, 18, 19, 20, 20, 20, 24, 30, 31, 31, 33, 34, 34, 36, 36, 36, 37, 39, 41, 42, 42, 45, 45, 45, 47, 50, 50, 51, 51, 51, 53, 54, 55, 56, 56, 57, 58, 63, 63, 64, 66, 66, 70, 70, 70, 72, 74, 75, 79, 81, 82, 84, 84, 84, 84, 85, 85, 85, 86, 87, 88, 89, 89, 90, 91, 91, 91, 92, 94, 95, 96, 98, 99]\n",
      "Uniques list: [1, 5, 8, 9, 10, 16, 18, 19, 24, 30, 33, 37, 39, 41, 47, 53, 54, 55, 57, 58, 64, 72, 74, 75, 79, 81, 82, 86, 87, 88, 90, 92, 94, 95, 96, 98, 99]\n",
      "Number of unique elements: 37\n"
     ]
    }
   ],
   "source": [
    "list = [36, 45, 58, 3, 74, 96, 64, 45, 31, 10, 24, 19, 33, 86, 99, 18, 63, 70, 85,\n",
    " 85, 63, 47, 56, 42, 70, 84, 88, 55, 20, 54, 8, 56, 51, 79, 81, 57, 37, 91,\n",
    " 1, 84, 84, 36, 66, 9, 89, 50, 42, 91, 50, 95, 90, 98, 39, 16, 82, 31, 92, 41,\n",
    " 45, 30, 66, 70, 34, 85, 94, 5, 3, 36, 72, 91, 84, 34, 87, 75, 53, 51, 20, 89, 51, 20]\n",
    "\n",
    "# inefficient way\n",
    "def uniques(list):\n",
    "    list.sort()\n",
    "    counts = 0\n",
    "    unique_numbers = []\n",
    "    for number in list:\n",
    "        num_counts = 0\n",
    "        for i in list:\n",
    "            if number == i: num_counts += 1\n",
    "        if num_counts == 1:\n",
    "            counts += 1\n",
    "            unique_numbers.append(number)\n",
    "    return unique_numbers, counts\n",
    "\n",
    "a = uniques(list)\n",
    "list.sort()\n",
    "print(f'Ordered list: {list}')\n",
    "print(f'Uniques list: {a[0]}')\n",
    "print(f'Number of unique elements: {a[1]}')\n",
    "\n",
    "print('==================================')\n",
    "\n",
    "# efficient way\n",
    "def uniques_eff(list):\n",
    "    counts = {}\n",
    "    for num in list:\n",
    "        counts[num] = counts.get(num, 0) + 1\n",
    "        # note: even if there are no keys in counts, we can write counts[num] because the keys are \"hidden\" and are numbers by default\n",
    "        # counts.get(num, 0) returns 0 if there is a key==num, else the value of its corresponding element\n",
    "    unique_numbers = sorted([num for num, c in counts.items() if c == 1])\n",
    "    return unique_numbers, len(unique_numbers)\n",
    "\n",
    "a = uniques_eff(list)\n",
    "list.sort()\n",
    "print(f'Ordered list: {list}')\n",
    "print(f'Uniques list: {a[0]}')\n",
    "print(f'Number of unique elements: {a[1]}')"
   ]
  },
  {
   "cell_type": "markdown",
   "metadata": {},
   "source": [
    "6\\. Combination of functions\n",
    "\n",
    "Write two functions - one that returns the square of a number, and one that returns the cube. Now write a third function that returns the number raised to the 6th power using the two previous functions."
   ]
  },
  {
   "cell_type": "code",
   "execution_count": 35,
   "metadata": {},
   "outputs": [
    {
     "name": "stdout",
     "output_type": "stream",
     "text": [
      "Square: 4\n",
      "Cube: 8\n",
      "Sixth pow: 64\n"
     ]
    }
   ],
   "source": [
    "def square(x):\n",
    "    return pow(x,2)\n",
    "\n",
    "def cube(x):\n",
    "    return pow(x,3)\n",
    "\n",
    "def sixth_pow(x):\n",
    "    return cube(square(x))\n",
    "\n",
    "a = 2\n",
    "print(f'Square: {square(a)}')\n",
    "print(f'Cube: {cube(a)}')\n",
    "print(f'Sixth pow: {sixth_pow(a)}')"
   ]
  },
  {
   "cell_type": "markdown",
   "metadata": {},
   "source": [
    "7\\. Cubes\n",
    "\n",
    "Create a list of the cubes of x for x in *[0, 10]* using:\n",
    "\n",
    "a) a for loop\n",
    "\n",
    "b) a list comprehension"
   ]
  },
  {
   "cell_type": "code",
   "execution_count": 41,
   "metadata": {},
   "outputs": [
    {
     "name": "stdout",
     "output_type": "stream",
     "text": [
      "For loop: [0, 1, 8, 27, 64, 125, 216, 343, 512, 729, 1000]\n",
      "List comprehension: [0, 1, 8, 27, 64, 125, 216, 343, 512, 729, 1000]\n"
     ]
    }
   ],
   "source": [
    "def cubes_forloop():\n",
    "    list = []\n",
    "    for i in range(0,11):\n",
    "        list.append(pow(i,3))\n",
    "    return list\n",
    "\n",
    "def cubes_listcompr():\n",
    "    return [x**3 for x in range(0,11)]\n",
    "\n",
    "print(f'For loop: {cubes_forloop()}')\n",
    "print(f'List comprehension: {cubes_listcompr()}')"
   ]
  },
  {
   "cell_type": "markdown",
   "metadata": {},
   "source": [
    "8\\. Nested list comprehension\n",
    "\n",
    "A Pythagorean triple is an integer solution to the Pythagorean theorem $a^2+b^2=c^2$. The first Pythagorean triple is (3,4,5). Find and put in a tuple all unique Pythagorean triples for the positive integers a, b and c less than 100."
   ]
  },
  {
   "cell_type": "code",
   "execution_count": 45,
   "metadata": {},
   "outputs": [
    {
     "name": "stdout",
     "output_type": "stream",
     "text": [
      "[(3, 4, 5), (5, 12, 13), (6, 8, 10), (7, 24, 25), (8, 15, 17), (9, 12, 15), (9, 40, 41), (10, 24, 26), (11, 60, 61), (12, 16, 20), (12, 35, 37), (13, 84, 85), (14, 48, 50), (15, 20, 25), (15, 36, 39), (16, 30, 34), (16, 63, 65), (18, 24, 30), (18, 80, 82), (20, 21, 29), (20, 48, 52), (21, 28, 35), (21, 72, 75), (24, 32, 40), (24, 45, 51), (24, 70, 74), (25, 60, 65), (27, 36, 45), (28, 45, 53), (28, 96, 100), (30, 40, 50), (30, 72, 78), (32, 60, 68), (33, 44, 55), (33, 56, 65), (35, 84, 91), (36, 48, 60), (36, 77, 85), (39, 52, 65), (39, 80, 89), (40, 42, 58), (40, 75, 85), (42, 56, 70), (45, 60, 75), (48, 55, 73), (48, 64, 80), (51, 68, 85), (54, 72, 90), (57, 76, 95), (60, 63, 87), (60, 80, 100), (65, 72, 97)]\n"
     ]
    }
   ],
   "source": [
    "def PythagoreanTriple_finder(x=100):\n",
    "    triples = [(a,b,c) for a in range(1,x+1) for b in range(a,x+1) for c in range(b,x+1) if a**2+b**2==c**2]\n",
    "    return triples\n",
    "\n",
    "print(PythagoreanTriple_finder())"
   ]
  },
  {
   "cell_type": "markdown",
   "metadata": {},
   "source": [
    "9\\. Normalization\n",
    "\n",
    "Write a function that takes a tuple of numbers and returns it with the entries normalized to one"
   ]
  },
  {
   "cell_type": "code",
   "execution_count": 48,
   "metadata": {},
   "outputs": [
    {
     "name": "stdout",
     "output_type": "stream",
     "text": [
      "(0.5, 0.5)\n",
      "(0.3333333333333333, 0.6666666666666666)\n"
     ]
    }
   ],
   "source": [
    "def normalize(tuple:tuple):\n",
    "    den = tuple[0]+tuple[1]\n",
    "    return (tuple[0]/den, tuple[1]/den)\n",
    "\n",
    "print(normalize((1,1)))\n",
    "print(normalize((1,2)))"
   ]
  }
 ],
 "metadata": {
  "kernelspec": {
<<<<<<< HEAD
   "display_name": "Python (.venv)",
   "language": "python",
   "name": ".venv"
=======
   "display_name": "Python [conda env:base] *",
   "language": "python",
   "name": "conda-base-py"
>>>>>>> upstream/main
  },
  "language_info": {
   "codemirror_mode": {
    "name": "ipython",
    "version": 3
   },
   "file_extension": ".py",
   "mimetype": "text/x-python",
   "name": "python",
   "nbconvert_exporter": "python",
   "pygments_lexer": "ipython3",
<<<<<<< HEAD
   "version": "3.12.3"
=======
   "version": "3.13.5"
>>>>>>> upstream/main
  }
 },
 "nbformat": 4,
 "nbformat_minor": 4
}
